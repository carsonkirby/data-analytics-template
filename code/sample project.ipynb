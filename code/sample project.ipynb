{
 "cells": [
  {
   "cell_type": "code",
   "execution_count": null,
   "id": "c3458fe7-b6f2-42fe-9f14-fef42efb1f60",
   "metadata": {},
   "outputs": [],
   "source": [
    "import pandas as pd"
   ]
  },
  {
   "cell_type": "code",
   "execution_count": null,
   "id": "92fcfe08-ebc3-4c2b-a115-6359fbfbad15",
   "metadata": {},
   "outputs": [],
   "source": [
    "# Read in csv files"
   ]
  },
  {
   "cell_type": "code",
   "execution_count": null,
   "id": "199a8493-026a-466d-b5c1-3d5cd114ea33",
   "metadata": {},
   "outputs": [],
   "source": [
    "example = pd.read_csv('example.csv')"
   ]
  },
  {
   "cell_type": "code",
   "execution_count": null,
   "id": "02450857-314f-4a5c-ba38-b478e12c3714",
   "metadata": {},
   "outputs": [],
   "source": [
    "example1 = pd.read_csv('example1.csv')"
   ]
  },
  {
   "cell_type": "code",
   "execution_count": null,
   "id": "9dfd689b-5adc-4487-808e-63b8063f1921",
   "metadata": {},
   "outputs": [],
   "source": [
    "# Merge csv files into one dataframe"
   ]
  },
  {
   "cell_type": "code",
   "execution_count": null,
   "id": "8e7e3593-ae83-4190-ae45-b33d0457a012",
   "metadata": {},
   "outputs": [],
   "source": [
    "integrated_examples = pd.merge(example, example1, on=\"Sample\", how=\"inner\")"
   ]
  }
 ],
 "metadata": {
  "kernelspec": {
   "display_name": "Python 3 (ipykernel)",
   "language": "python",
   "name": "python3"
  },
  "language_info": {
   "codemirror_mode": {
    "name": "ipython",
    "version": 3
   },
   "file_extension": ".py",
   "mimetype": "text/x-python",
   "name": "python",
   "nbconvert_exporter": "python",
   "pygments_lexer": "ipython3",
   "version": "3.11.9"
  }
 },
 "nbformat": 4,
 "nbformat_minor": 5
}
